{
 "cells": [
  {
   "cell_type": "code",
   "execution_count": 3,
   "id": "845966b7-b20a-4552-9111-9cdc9f50e47a",
   "metadata": {},
   "outputs": [
    {
     "name": "stdout",
     "output_type": "stream",
     "text": [
      "Requirement already satisfied: requests in c:\\users\\kits\\anaconda3\\lib\\site-packages (2.32.3)\n",
      "Requirement already satisfied: charset-normalizer<4,>=2 in c:\\users\\kits\\anaconda3\\lib\\site-packages (from requests) (3.3.2)\n",
      "Requirement already satisfied: idna<4,>=2.5 in c:\\users\\kits\\anaconda3\\lib\\site-packages (from requests) (3.7)\n",
      "Requirement already satisfied: urllib3<3,>=1.21.1 in c:\\users\\kits\\anaconda3\\lib\\site-packages (from requests) (2.2.3)\n",
      "Requirement already satisfied: certifi>=2017.4.17 in c:\\users\\kits\\anaconda3\\lib\\site-packages (from requests) (2024.8.30)\n",
      "Requirement already satisfied: beautifulsoup4 in c:\\users\\kits\\anaconda3\\lib\\site-packages (4.12.3)\n",
      "Requirement already satisfied: soupsieve>1.2 in c:\\users\\kits\\anaconda3\\lib\\site-packages (from beautifulsoup4) (2.5)\n"
     ]
    }
   ],
   "source": [
    "!pip install requests\n",
    "!pip install beautifulsoup4\n"
   ]
  },
  {
   "cell_type": "code",
   "execution_count": 5,
   "id": "162ce7b3-bb9e-483f-b52d-c70a9eb69a2e",
   "metadata": {},
   "outputs": [
    {
     "name": "stdout",
     "output_type": "stream",
     "text": [
      "                                   Title   Price Availability Rating\n",
      "0                   A Light in the Attic  £51.77     In stock  Three\n",
      "1                     Tipping the Velvet  £53.74     In stock    One\n",
      "2                             Soumission  £50.10     In stock    One\n",
      "3                          Sharp Objects  £47.82     In stock   Four\n",
      "4  Sapiens: A Brief History of Humankind  £54.23     In stock   Five\n"
     ]
    }
   ],
   "source": [
    "import requests\n",
    "from bs4 import BeautifulSoup\n",
    "import pandas as pd\n",
    "\n",
    "url = 'https://books.toscrape.com/catalogue/page-1.html'\n",
    "\n",
    "response = requests.get(url)\n",
    "soup = BeautifulSoup(response.content, 'html.parser')\n",
    "\n",
    "titles = []\n",
    "prices = []\n",
    "availability = []\n",
    "ratings = []\n",
    "\n",
    "books = soup.find_all('article', class_='product_pod')\n",
    "\n",
    "for book in books:\n",
    "    titles.append(book.h3.a['title'])\n",
    "    prices.append(book.find('p', class_='price_color').text)\n",
    "    availability.append(book.find('p', class_='instock availability').text.strip())\n",
    "    ratings.append(book.p['class'][1])  # Second class = rating\n",
    "\n",
    "df = pd.DataFrame({\n",
    "    'Title': titles,\n",
    "    'Price': prices,\n",
    "    'Availability': availability,\n",
    "    'Rating': ratings\n",
    "})\n",
    "\n",
    "print(df.head())\n",
    "\n",
    "df.to_csv('books_page1.csv', index=False)\n"
   ]
  },
  {
   "cell_type": "code",
   "execution_count": null,
   "id": "ad832341-6748-4535-aab6-b2a69fa1fe8c",
   "metadata": {},
   "outputs": [],
   "source": []
  }
 ],
 "metadata": {
  "kernelspec": {
   "display_name": "Python 3 (ipykernel)",
   "language": "python",
   "name": "python3"
  },
  "language_info": {
   "codemirror_mode": {
    "name": "ipython",
    "version": 3
   },
   "file_extension": ".py",
   "mimetype": "text/x-python",
   "name": "python",
   "nbconvert_exporter": "python",
   "pygments_lexer": "ipython3",
   "version": "3.12.7"
  }
 },
 "nbformat": 4,
 "nbformat_minor": 5
}
